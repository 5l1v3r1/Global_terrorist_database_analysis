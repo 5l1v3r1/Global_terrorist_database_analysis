{
 "cells": [
  {
   "cell_type": "markdown",
   "metadata": {},
   "source": [
    "## Predicting Group Responsible - Initial Model Evaluation\n",
    "\n",
    "Table of Contents\n",
    "\n",
    "Exploration of models without feature extraction\n"
   ]
  },
  {
   "cell_type": "markdown",
   "metadata": {},
   "source": [
    "### Description\n",
    "\n",
    "The database details information about all the terrorist attacks all over the world from 1970 to 2016 including information about description of the attack, terrorist groups invloved, weapons used, attack type etc.for each terrorist attack.\n",
    "\n",
    "However certain incidents have not been attributed to any particular terrorist group. This model attempts to predict the terorist group responsible for such attacks.\n",
    "\n",
    "Information about the various features of the database has been detailed at: https://www.start.umd.edu/gtd/downloads/Codebook.pdf\n"
   ]
  },
  {
   "cell_type": "code",
   "execution_count": 1,
   "metadata": {
    "collapsed": true
   },
   "outputs": [],
   "source": [
    "%matplotlib inline\n",
    "import pandas as pd\n",
    "import matplotlib\n",
    "import numpy as np\n",
    "import matplotlib.pyplot as plt\n",
    "import seaborn as sns"
   ]
  },
  {
   "cell_type": "code",
   "execution_count": 2,
   "metadata": {},
   "outputs": [
    {
     "data": {
      "text/html": [
       "<div>\n",
       "<style>\n",
       "    .dataframe thead tr:only-child th {\n",
       "        text-align: right;\n",
       "    }\n",
       "\n",
       "    .dataframe thead th {\n",
       "        text-align: left;\n",
       "    }\n",
       "\n",
       "    .dataframe tbody tr th {\n",
       "        vertical-align: top;\n",
       "    }\n",
       "</style>\n",
       "<table border=\"1\" class=\"dataframe\">\n",
       "  <thead>\n",
       "    <tr style=\"text-align: right;\">\n",
       "      <th></th>\n",
       "      <th>eventid</th>\n",
       "      <th>iyear</th>\n",
       "      <th>imonth</th>\n",
       "      <th>iday</th>\n",
       "      <th>approxdate</th>\n",
       "      <th>extended</th>\n",
       "      <th>resolution</th>\n",
       "      <th>country</th>\n",
       "      <th>country_txt</th>\n",
       "      <th>region</th>\n",
       "      <th>...</th>\n",
       "      <th>addnotes</th>\n",
       "      <th>scite1</th>\n",
       "      <th>scite2</th>\n",
       "      <th>scite3</th>\n",
       "      <th>dbsource</th>\n",
       "      <th>INT_LOG</th>\n",
       "      <th>INT_IDEO</th>\n",
       "      <th>INT_MISC</th>\n",
       "      <th>INT_ANY</th>\n",
       "      <th>related</th>\n",
       "    </tr>\n",
       "  </thead>\n",
       "  <tbody>\n",
       "    <tr>\n",
       "      <th>0</th>\n",
       "      <td>199501000001</td>\n",
       "      <td>1995</td>\n",
       "      <td>1</td>\n",
       "      <td>0</td>\n",
       "      <td>NaN</td>\n",
       "      <td>0</td>\n",
       "      <td>NaT</td>\n",
       "      <td>217</td>\n",
       "      <td>United States</td>\n",
       "      <td>1</td>\n",
       "      <td>...</td>\n",
       "      <td>NaN</td>\n",
       "      <td>NaN</td>\n",
       "      <td>NaN</td>\n",
       "      <td>NaN</td>\n",
       "      <td>PGIS</td>\n",
       "      <td>-9</td>\n",
       "      <td>-9</td>\n",
       "      <td>0</td>\n",
       "      <td>-9</td>\n",
       "      <td>199501000001, 199501000002, 199501000003</td>\n",
       "    </tr>\n",
       "  </tbody>\n",
       "</table>\n",
       "<p>1 rows × 135 columns</p>\n",
       "</div>"
      ],
      "text/plain": [
       "        eventid  iyear  imonth  iday approxdate  extended resolution  country  \\\n",
       "0  199501000001   1995       1     0        NaN         0        NaT      217   \n",
       "\n",
       "     country_txt  region                    ...                    addnotes  \\\n",
       "0  United States       1                    ...                         NaN   \n",
       "\n",
       "  scite1 scite2  scite3  dbsource  INT_LOG  INT_IDEO INT_MISC INT_ANY  \\\n",
       "0    NaN    NaN     NaN      PGIS       -9        -9        0      -9   \n",
       "\n",
       "                                    related  \n",
       "0  199501000001, 199501000002, 199501000003  \n",
       "\n",
       "[1 rows x 135 columns]"
      ]
     },
     "metadata": {},
     "output_type": "display_data"
    }
   ],
   "source": [
    "data = pd.read_excel(\"gtd_95to12_0617dist.xlsx\")\n",
    "display(data.head(n=1))"
   ]
  },
  {
   "cell_type": "code",
   "execution_count": 3,
   "metadata": {},
   "outputs": [
    {
     "name": "stdout",
     "output_type": "stream",
     "text": [
      "<class 'pandas.core.frame.DataFrame'>\n",
      "RangeIndex: 55055 entries, 0 to 55054\n",
      "Columns: 135 entries, eventid to related\n",
      "dtypes: datetime64[ns](1), float64(53), int64(24), object(57)\n",
      "memory usage: 56.7+ MB\n"
     ]
    }
   ],
   "source": [
    "#info about dataset\n",
    "data.info()"
   ]
  },
  {
   "cell_type": "code",
   "execution_count": 4,
   "metadata": {},
   "outputs": [
    {
     "name": "stdout",
     "output_type": "stream",
     "text": [
      "Total no of rows and columns: (55055, 135)\n"
     ]
    }
   ],
   "source": [
    "#total no of columns and rows present in data\n",
    "print \"Total no of rows and columns:\",data.shape"
   ]
  },
  {
   "cell_type": "code",
   "execution_count": 5,
   "metadata": {
    "collapsed": true
   },
   "outputs": [],
   "source": [
    "#Removing columns which has 80% null values\n",
    "def remove_columns_missing_values(data, min_threshold):\n",
    "    for col in data.columns:\n",
    "        rate = data[col].isnull().sum()/float(len(data)) * 100\n",
    "        if rate >= min_threshold:\n",
    "            data = data.drop(col,1)\n",
    "    return data"
   ]
  },
  {
   "cell_type": "code",
   "execution_count": 7,
   "metadata": {},
   "outputs": [
    {
     "name": "stdout",
     "output_type": "stream",
     "text": [
      " Total no of features values available : 66\n"
     ]
    }
   ],
   "source": [
    "data = remove_columns_missing_values(data , 80)\n",
    "print \"Total no of features values available :\",len(data.columns)"
   ]
  },
  {
   "cell_type": "code",
   "execution_count": 8,
   "metadata": {
    "collapsed": true
   },
   "outputs": [],
   "source": [
    "columns_to_drop = ['INT_LOG' , 'INT_MISC', 'INT_ANY', 'INT_IDEO',\n",
    "                   'eventid','extended','summary', 'scite1' , 'scite2' , 'scite3' , 'dbsource' , \n",
    "                   'provstate', 'location',  'city','nwoundte','propextent','nkillter', \n",
    "                   'guncertain1', 'nperpcap','nwoundus','nkillus','latitude','longitude',\n",
    "                   'propcomment', 'weapdetail', 'corp1', 'motive', 'target1']\n",
    "data = data.drop(columns_to_drop,axis = 1)"
   ]
  },
  {
   "cell_type": "code",
   "execution_count": 9,
   "metadata": {},
   "outputs": [
    {
     "name": "stdout",
     "output_type": "stream",
     "text": [
      "<class 'pandas.core.frame.DataFrame'>\n",
      "RangeIndex: 55055 entries, 0 to 55054\n",
      "Data columns (total 38 columns):\n",
      "iyear               55055 non-null int64\n",
      "imonth              55055 non-null int64\n",
      "iday                55055 non-null int64\n",
      "country             55055 non-null int64\n",
      "country_txt         55055 non-null object\n",
      "region              55055 non-null int64\n",
      "region_txt          55055 non-null object\n",
      "specificity         55051 non-null float64\n",
      "vicinity            55055 non-null int64\n",
      "crit1               55055 non-null int64\n",
      "crit2               55055 non-null int64\n",
      "crit3               55055 non-null int64\n",
      "doubtterr           55055 non-null int64\n",
      "multiple            55055 non-null int64\n",
      "success             55055 non-null int64\n",
      "suicide             55055 non-null int64\n",
      "attacktype1         55055 non-null int64\n",
      "attacktype1_txt     55055 non-null object\n",
      "targtype1           55055 non-null int64\n",
      "targtype1_txt       55055 non-null object\n",
      "targsubtype1        52031 non-null float64\n",
      "targsubtype1_txt    52031 non-null object\n",
      "natlty1             54628 non-null float64\n",
      "natlty1_txt         54628 non-null object\n",
      "gname               55055 non-null object\n",
      "individual          55055 non-null int64\n",
      "nperps              33821 non-null float64\n",
      "claimed             45795 non-null float64\n",
      "weaptype1           55055 non-null int64\n",
      "weaptype1_txt       55055 non-null object\n",
      "weapsubtype1        49750 non-null float64\n",
      "weapsubtype1_txt    49750 non-null object\n",
      "nkill               54220 non-null float64\n",
      "nwound              52556 non-null float64\n",
      "property            55055 non-null int64\n",
      "propextent_txt      23000 non-null object\n",
      "ishostkid           55052 non-null float64\n",
      "ransom              13806 non-null float64\n",
      "dtypes: float64(10), int64(18), object(10)\n",
      "memory usage: 16.0+ MB\n"
     ]
    }
   ],
   "source": [
    "#No of columns present after removing columns which has null values more than 80%\n",
    "data.info()"
   ]
  },
  {
   "cell_type": "code",
   "execution_count": 10,
   "metadata": {},
   "outputs": [],
   "source": [
    "#Removing columns with redunant,noisy and irrelevant data\n",
    "columns_to_drop = ['country_txt','region_txt','crit1','crit2','crit3','propextent_txt','weapsubtype1_txt','weaptype1_txt',\n",
    "                  'natlty1_txt','ransom','nperps','targsubtype1','weapsubtype1','specificity','nwound','nkill','targtype1_txt','targsubtype1_txt','attacktype1_txt']\n",
    "data = data.drop(columns_to_drop,axis = 1)"
   ]
  },
  {
   "cell_type": "code",
   "execution_count": 11,
   "metadata": {},
   "outputs": [
    {
     "name": "stdout",
     "output_type": "stream",
     "text": [
      "<class 'pandas.core.frame.DataFrame'>\n",
      "RangeIndex: 55055 entries, 0 to 55054\n",
      "Data columns (total 19 columns):\n",
      "iyear          55055 non-null int64\n",
      "imonth         55055 non-null int64\n",
      "iday           55055 non-null int64\n",
      "country        55055 non-null int64\n",
      "region         55055 non-null int64\n",
      "vicinity       55055 non-null int64\n",
      "doubtterr      55055 non-null int64\n",
      "multiple       55055 non-null int64\n",
      "success        55055 non-null int64\n",
      "suicide        55055 non-null int64\n",
      "attacktype1    55055 non-null int64\n",
      "targtype1      55055 non-null int64\n",
      "natlty1        54628 non-null float64\n",
      "gname          55055 non-null object\n",
      "individual     55055 non-null int64\n",
      "claimed        45795 non-null float64\n",
      "weaptype1      55055 non-null int64\n",
      "property       55055 non-null int64\n",
      "ishostkid      55052 non-null float64\n",
      "dtypes: float64(3), int64(15), object(1)\n",
      "memory usage: 8.0+ MB\n"
     ]
    }
   ],
   "source": [
    "#features after removing redunant,noisy and irrelevant data\n",
    "data.info()"
   ]
  },
  {
   "cell_type": "code",
   "execution_count": 12,
   "metadata": {},
   "outputs": [
    {
     "name": "stdout",
     "output_type": "stream",
     "text": [
      "Total no of null values in data: 9690\n"
     ]
    }
   ],
   "source": [
    "#Total no of null values present in data\n",
    "print \"Total no of null values in data:\",data.isnull().values.sum()"
   ]
  },
  {
   "cell_type": "code",
   "execution_count": 13,
   "metadata": {
    "collapsed": true
   },
   "outputs": [],
   "source": [
    "#filling null values with median values\n",
    "features = data.fillna(data.median())"
   ]
  },
  {
   "cell_type": "code",
   "execution_count": 14,
   "metadata": {},
   "outputs": [
    {
     "data": {
      "text/plain": [
       "0"
      ]
     },
     "execution_count": 14,
     "metadata": {},
     "output_type": "execute_result"
    }
   ],
   "source": [
    "#Total no of null values present in data\n",
    "features.isnull().values.sum()"
   ]
  },
  {
   "cell_type": "code",
   "execution_count": 15,
   "metadata": {},
   "outputs": [
    {
     "data": {
      "text/plain": [
       "array([u'Anti-Abortion extremists', u'Unknown', u'Anarchists', ...,\n",
       "       u'Militant Minority (Greece)', u'Punjabi Taliban',\n",
       "       u'Biswabhumi Sena Bishal Nepal'], dtype=object)"
      ]
     },
     "execution_count": 15,
     "metadata": {},
     "output_type": "execute_result"
    }
   ],
   "source": [
    "#checking unique values in each Gname to find no of terrorist organosation present in data\n",
    "features[\"gname\"].unique()"
   ]
  },
  {
   "cell_type": "code",
   "execution_count": 16,
   "metadata": {
    "collapsed": true
   },
   "outputs": [],
   "source": [
    "#Encoding terrorist organisation with numerical values to train the data\n",
    "features_new = features.drop(\"gname\" , axis=1)\n",
    "gname = features[\"gname\"]\n",
    "from sklearn import preprocessing\n",
    "le = preprocessing.LabelEncoder()\n",
    "le.fit(gname)\n",
    "gname_encoded = le.transform(gname)"
   ]
  },
  {
   "cell_type": "code",
   "execution_count": 18,
   "metadata": {},
   "outputs": [],
   "source": [
    "#Spliting data into training and testing test to cross validate trained model\n",
    "#80% of training data and 20% testing data\n",
    "from sklearn.cross_validation import train_test_split\n",
    "X_train, X_test, y_train, y_test = train_test_split(features_new, \n",
    "                                                    gname_encoded, \n",
    "                                                    test_size = 0.2, \n",
    "                                                    random_state = 0)"
   ]
  },
  {
   "cell_type": "code",
   "execution_count": 19,
   "metadata": {},
   "outputs": [
    {
     "name": "stdout",
     "output_type": "stream",
     "text": [
      "0.740986286441\n"
     ]
    }
   ],
   "source": [
    "from sklearn.ensemble import RandomForestClassifier\n",
    "from sklearn.metrics import accuracy_score\n",
    "clf = RandomForestClassifier()\n",
    "clf = clf.fit(X_train, y_train)\n",
    "pred = clf.predict(X_test)\n",
    "important_features = clf.feature_importances_\n",
    "acc = accuracy_score(y_test , pred)\n",
    "print acc"
   ]
  },
  {
   "cell_type": "code",
   "execution_count": 20,
   "metadata": {
    "collapsed": true
   },
   "outputs": [],
   "source": [
    "X_train_reduced = X_train[X_train.columns.values[(np.argsort(important_features)[::-1])[:9]]]\n",
    "X_test_reduced = X_test[X_test.columns.values[(np.argsort(important_features)[::-1])[:9]]]"
   ]
  },
  {
   "cell_type": "code",
   "execution_count": 27,
   "metadata": {},
   "outputs": [
    {
     "name": "stdout",
     "output_type": "stream",
     "text": [
      "0.743801652893\n"
     ]
    }
   ],
   "source": [
    "#Using random forest to train, test and check the accuracy of trained model with reduced feature\n",
    "from sklearn.ensemble import RandomForestClassifier\n",
    "from sklearn.metrics import accuracy_score\n",
    "clf = RandomForestClassifier(n_estimators=100 ,criterion='entropy', random_state=10)\n",
    "clf = clf.fit(X_train_reduced, y_train)\n",
    "pred = clf.predict(X_test_reduced)\n",
    "acc = accuracy_score(y_test , pred)\n",
    "print acc"
   ]
  },
  {
   "cell_type": "markdown",
   "metadata": {},
   "source": [
    "### Final evaluation\n",
    "\n",
    "\n",
    "After reducing no of features and tuning paramters of random forest classifier the accuracy_score is improved marginally."
   ]
  }
 ],
 "metadata": {
  "kernelspec": {
   "display_name": "Python 2",
   "language": "python",
   "name": "python2"
  },
  "language_info": {
   "codemirror_mode": {
    "name": "ipython",
    "version": 2
   },
   "file_extension": ".py",
   "mimetype": "text/x-python",
   "name": "python",
   "nbconvert_exporter": "python",
   "pygments_lexer": "ipython2",
   "version": "2.7.14"
  }
 },
 "nbformat": 4,
 "nbformat_minor": 2
}
